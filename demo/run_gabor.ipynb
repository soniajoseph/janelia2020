{
 "cells": [
  {
   "cell_type": "code",
   "execution_count": null,
   "metadata": {},
   "outputs": [],
   "source": [
    "%cd ../\n",
    "%config InlineBackend.figure_format='retina'\n",
    "\n",
    "import logging\n",
    "\n",
    "import numpy as np\n",
    "import seaborn as sns\n",
    "from src.gabor_analysis.gabor_fit import GaborFit\n",
    "from src.receptive_field.rf import ReceptiveField\n",
    "from pathlib import Path\n",
    "\n",
    "logging.getLogger().setLevel(logging.INFO)\n",
    "sns.set()"
   ]
  },
  {
   "cell_type": "code",
   "execution_count": null,
   "metadata": {
    "tags": [
     "parameters"
    ]
   },
   "outputs": [],
   "source": [
    "path_loader = \"/groups/stringer/home/josephs2/data/text32_500_TX59_2020_08_18.hdf5\"\n",
    "path_rf = \"/groups/stringer/home/josephs2/data/text32_500_TX59_2020_08_18.hdf5\"\n",
    "path_rf_pcaed = \"/groups/stringer/home/josephs2/data/text32_500_TX59_2020_08_18rf_pcaed.npy\""
   ]
  },
  {
   "cell_type": "code",
   "execution_count": null,
   "metadata": {},
   "outputs": [],
   "source": [
    "path_loader = Path(path_loader)\n",
    "path_rf_pcaed = path_loader.parent / (path_loader.stem + \"rf_pcaed.npy\")"
   ]
  },
  {
   "cell_type": "code",
   "execution_count": null,
   "metadata": {},
   "outputs": [],
   "source": [
    "rf_pcaed = np.load(path_rf_pcaed)\n",
    "rf = ReceptiveField.from_hdf5(path_rf)\n",
    "\n",
    "\n",
    "def penalties():\n",
    "    out = np.zeros((5, 2), dtype=np.float32)\n",
    "    out[GaborFit.KEY[\"σ\"]] = (0.04, 2.0)\n",
    "    out[GaborFit.KEY[\"λ\"]] = (0.6, 0.85)\n",
    "    out[GaborFit.KEY[\"γ\"]] = (0.8, 0.5)\n",
    "    return out\n",
    "\n",
    "\n",
    "g = GaborFit(\n",
    "    n_pc=0,\n",
    "    optimizer={\"name\": \"adam\", \"step_size\": 2e-2},\n",
    "    params_init={\"σ\": 2, \"θ\": 0.0, \"λ\": 1.0, \"γ\": 1.5, \"φ\": 0.0, \"pos_x\": 0.0, \"pos_y\": 0.0},\n",
    "    penalties=penalties(),\n",
    ").fit(rf_pcaed)\n",
    "g.plot()\n",
    "g.save_append(path_loader, overwrite_group=True)"
   ]
  },
  {
   "cell_type": "markdown",
   "metadata": {
    "cell_marker": "\"\"\""
   },
   "source": [
    "### Diagnostic\n",
    "\n",
    "As a diagnostic, we check compare\n",
    "- the correlations between the PCAed RFs and raw RFs and \n",
    "- the correlations between the fitted Gabor RFs and raw RFs.\n",
    "\n",
    "If out Gabor fit can cover enough \"receptive field space\", there should be a linear correspondence between these two models."
   ]
  },
  {
   "cell_type": "code",
   "execution_count": null,
   "metadata": {},
   "outputs": [],
   "source": [
    "g.plot_corr(rf.rf_, rf_pcaed)"
   ]
  }
 ],
 "metadata": {
  "jupytext": {
   "cell_metadata_filter": "tags,-all",
   "encoding": "# -*- coding: utf-8 -*-",
   "main_language": "python",
   "notebook_metadata_filter": "-all"
  },
  "kernelspec": {
   "display_name": "Python 3",
   "language": "python",
   "name": "python3"
  }
 },
 "nbformat": 4,
 "nbformat_minor": 4
}
