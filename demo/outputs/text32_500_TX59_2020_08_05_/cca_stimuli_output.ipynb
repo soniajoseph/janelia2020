{
 "cells": [
  {
   "cell_type": "markdown",
   "metadata": {
    "tags": [
     "papermill-error-cell-tag"
    ]
   },
   "source": [
    "<span style=\"color:red; font-family:Helvetica Neue, Helvetica, Arial, sans-serif; font-size:2em;\">An Exception was encountered at '<a href=\"#papermill-error-cell\">In [4]</a>'.</span>"
   ]
  },
  {
   "cell_type": "code",
   "execution_count": 1,
   "metadata": {
    "execution": {
     "iopub.execute_input": "2020-10-30T06:30:02.159800Z",
     "iopub.status.busy": "2020-10-30T06:30:02.158890Z",
     "iopub.status.idle": "2020-10-30T06:30:06.925656Z",
     "shell.execute_reply": "2020-10-30T06:30:06.924468Z"
    },
    "papermill": {
     "duration": 4.810425,
     "end_time": "2020-10-30T06:30:06.926001",
     "exception": false,
     "start_time": "2020-10-30T06:30:02.115576",
     "status": "completed"
    },
    "tags": []
   },
   "outputs": [
    {
     "name": "stdout",
     "output_type": "stream",
     "text": [
      "/groups/stringer/home/josephs2/janelia2020\n"
     ]
    }
   ],
   "source": [
    "%cd ../\n",
    "%config InlineBackend.figure_format='retina'\n",
    "\n",
    "import altair as alt\n",
    "import matplotlib.pyplot as plt\n",
    "import numpy as np\n",
    "import pandas as pd\n",
    "import seaborn as sns\n",
    "from scipy.stats.stats import zscore\n",
    "from src.canonical_analysis.subspace_comm import CCARepeatedStim\n",
    "from src.gabor_analysis.gabor_fit import GaborFit\n",
    "from src.power_law.subtract_spont import SubtractSpontAnalyzer\n",
    "from src.spikeloader import SpikeLoader\n",
    "\n",
    "alt.data_transformers.disable_max_rows()\n",
    "sns.set()"
   ]
  },
  {
   "cell_type": "code",
   "execution_count": 2,
   "metadata": {
    "execution": {
     "iopub.execute_input": "2020-10-30T06:30:06.995957Z",
     "iopub.status.busy": "2020-10-30T06:30:06.992398Z",
     "iopub.status.idle": "2020-10-30T06:30:06.999181Z",
     "shell.execute_reply": "2020-10-30T06:30:07.002396Z"
    },
    "papermill": {
     "duration": 0.041017,
     "end_time": "2020-10-30T06:30:07.003385",
     "exception": false,
     "start_time": "2020-10-30T06:30:06.962368",
     "status": "completed"
    },
    "tags": [
     "parameters"
    ]
   },
   "outputs": [],
   "source": [
    "path_loader = \"data/superstim_TX57.hdf5\"\n",
    "path_gabor = \"data/superstim_TX57.hdf5\""
   ]
  },
  {
   "cell_type": "code",
   "execution_count": 3,
   "metadata": {
    "execution": {
     "iopub.execute_input": "2020-10-30T06:30:07.066184Z",
     "iopub.status.busy": "2020-10-30T06:30:07.065053Z",
     "iopub.status.idle": "2020-10-30T06:30:07.067230Z",
     "shell.execute_reply": "2020-10-30T06:30:07.068295Z"
    },
    "papermill": {
     "duration": 0.032611,
     "end_time": "2020-10-30T06:30:07.068587",
     "exception": false,
     "start_time": "2020-10-30T06:30:07.035976",
     "status": "completed"
    },
    "tags": [
     "injected-parameters"
    ]
   },
   "outputs": [],
   "source": [
    "# Parameters\n",
    "path_npz = (\n",
    "    \"/groups/pachitariu/pachitariulab/datasets/v1RF/text32_500_TX59_2020_08_05.npz\"\n",
    ")\n",
    "path_hdf5 = \"/groups/stringer/home/josephs2/data/text32_500_TX59_2020_08_05.hdf5\"\n",
    "path_img = \"/groups/pachitariu/pachitariulab/data/STIM/text32_500.mat\"\n",
    "path_loader = \"/groups/stringer/home/josephs2/data/text32_500_TX59_2020_08_05.hdf5\"\n",
    "path_rf = \"/groups/stringer/home/josephs2/data/text32_500_TX59_2020_08_05.hdf5\"\n",
    "path_gabor = \"/groups/stringer/home/josephs2/data/text32_500_TX59_2020_08_05.hdf5\"\n"
   ]
  },
  {
   "cell_type": "markdown",
   "metadata": {
    "tags": [
     "papermill-error-cell-tag"
    ]
   },
   "source": [
    "<span id=\"papermill-error-cell\" style=\"color:red; font-family:Helvetica Neue, Helvetica, Arial, sans-serif; font-size:2em;\">Execution using papermill encountered an exception here and stopped:</span>"
   ]
  },
  {
   "cell_type": "code",
   "execution_count": 4,
   "metadata": {
    "execution": {
     "iopub.execute_input": "2020-10-30T06:30:07.148672Z",
     "iopub.status.busy": "2020-10-30T06:30:07.147892Z",
     "iopub.status.idle": "2020-10-30T06:30:07.768310Z",
     "shell.execute_reply": "2020-10-30T06:30:07.767051Z"
    },
    "papermill": {
     "duration": 0.658709,
     "end_time": "2020-10-30T06:30:07.768640",
     "exception": true,
     "start_time": "2020-10-30T06:30:07.109931",
     "status": "failed"
    },
    "tags": []
   },
   "outputs": [
    {
     "name": "stderr",
     "output_type": "stream",
     "text": [
      "WARNING:root:img_scale not in SpikeLoader.\n"
     ]
    },
    {
     "name": "stderr",
     "output_type": "stream",
     "text": [
      "WARNING:root:img_dim not in SpikeLoader.\n"
     ]
    },
    {
     "name": "stderr",
     "output_type": "stream",
     "text": [
      "WARNING:root:npzhash not in SpikeLoader.\n"
     ]
    },
    {
     "name": "stdout",
     "output_type": "stream",
     "text": [
      "dict_keys(['cls', 'path', 'load_prev_run', 'kwargs'])\n",
      "<class 'src.spikeloader.SpikeLoader'>\n",
      "/groups/stringer/home/josephs2/data/text32_500_TX59_2020_08_05.hdf5\n",
      "True\n",
      "{}\n",
      "dict_keys(['cls', 'path', 'load_prev_run', 'kwargs'])\n",
      "<class 'src.gabor_analysis.gabor_fit.GaborFit'>\n",
      "/groups/stringer/home/josephs2/data/text32_500_TX59_2020_08_05.hdf5\n",
      "True\n",
      "{}\n"
     ]
    },
    {
     "ename": "IndexError",
     "evalue": "GaborFit",
     "output_type": "error",
     "traceback": [
      "\u001b[0;31m---------------------------------------------------------------------------\u001b[0m",
      "\u001b[0;31mNoSuchNodeError\u001b[0m                           Traceback (most recent call last)",
      "\u001b[0;32m~/anaconda3-2020/lib/python3.8/site-packages/tables/group.py\u001b[0m in \u001b[0;36m__getitem__\u001b[0;34m(self, childname)\u001b[0m\n\u001b[1;32m    438\u001b[0m         \u001b[0;32mtry\u001b[0m\u001b[0;34m:\u001b[0m\u001b[0;34m\u001b[0m\u001b[0;34m\u001b[0m\u001b[0m\n\u001b[0;32m--> 439\u001b[0;31m             \u001b[0;32mreturn\u001b[0m \u001b[0mself\u001b[0m\u001b[0;34m.\u001b[0m\u001b[0m_f_get_child\u001b[0m\u001b[0;34m(\u001b[0m\u001b[0mchildname\u001b[0m\u001b[0;34m)\u001b[0m\u001b[0;34m\u001b[0m\u001b[0;34m\u001b[0m\u001b[0m\n\u001b[0m\u001b[1;32m    440\u001b[0m         \u001b[0;32mexcept\u001b[0m \u001b[0mNoSuchNodeError\u001b[0m\u001b[0;34m:\u001b[0m\u001b[0;34m\u001b[0m\u001b[0;34m\u001b[0m\u001b[0m\n",
      "\u001b[0;32m~/anaconda3-2020/lib/python3.8/site-packages/tables/group.py\u001b[0m in \u001b[0;36m_f_get_child\u001b[0;34m(self, childname)\u001b[0m\n\u001b[1;32m    707\u001b[0m \u001b[0;34m\u001b[0m\u001b[0m\n\u001b[0;32m--> 708\u001b[0;31m         \u001b[0mself\u001b[0m\u001b[0;34m.\u001b[0m\u001b[0m_g_check_has_child\u001b[0m\u001b[0;34m(\u001b[0m\u001b[0mchildname\u001b[0m\u001b[0;34m)\u001b[0m\u001b[0;34m\u001b[0m\u001b[0;34m\u001b[0m\u001b[0m\n\u001b[0m\u001b[1;32m    709\u001b[0m \u001b[0;34m\u001b[0m\u001b[0m\n",
      "\u001b[0;32m~/anaconda3-2020/lib/python3.8/site-packages/tables/group.py\u001b[0m in \u001b[0;36m_g_check_has_child\u001b[0;34m(self, name)\u001b[0m\n\u001b[1;32m    392\u001b[0m         \u001b[0;32mif\u001b[0m \u001b[0mnode_type\u001b[0m \u001b[0;34m==\u001b[0m \u001b[0;34m\"NoSuchNode\"\u001b[0m\u001b[0;34m:\u001b[0m\u001b[0;34m\u001b[0m\u001b[0;34m\u001b[0m\u001b[0m\n\u001b[0;32m--> 393\u001b[0;31m             raise NoSuchNodeError(\n\u001b[0m\u001b[1;32m    394\u001b[0m                 \u001b[0;34m\"group ``%s`` does not have a child named ``%s``\"\u001b[0m\u001b[0;34m\u001b[0m\u001b[0;34m\u001b[0m\u001b[0m\n",
      "\u001b[0;31mNoSuchNodeError\u001b[0m: group ``/`` does not have a child named ``GaborFit``",
      "\nDuring handling of the above exception, another exception occurred:\n",
      "\u001b[0;31mIndexError\u001b[0m                                Traceback (most recent call last)",
      "\u001b[0;32m<ipython-input-4-996b1243a920>\u001b[0m in \u001b[0;36m<module>\u001b[0;34m\u001b[0m\n\u001b[1;32m      1\u001b[0m \u001b[0mloader\u001b[0m \u001b[0;34m=\u001b[0m \u001b[0mSpikeLoader\u001b[0m\u001b[0;34m.\u001b[0m\u001b[0mfrom_hdf5\u001b[0m\u001b[0;34m(\u001b[0m\u001b[0mpath_loader\u001b[0m\u001b[0;34m)\u001b[0m\u001b[0;34m\u001b[0m\u001b[0;34m\u001b[0m\u001b[0m\n\u001b[0;32m----> 2\u001b[0;31m \u001b[0mgabor\u001b[0m \u001b[0;34m=\u001b[0m \u001b[0mGaborFit\u001b[0m\u001b[0;34m.\u001b[0m\u001b[0mfrom_hdf5\u001b[0m\u001b[0;34m(\u001b[0m\u001b[0mpath_gabor\u001b[0m\u001b[0;34m)\u001b[0m\u001b[0;34m\u001b[0m\u001b[0;34m\u001b[0m\u001b[0m\n\u001b[0m\u001b[1;32m      3\u001b[0m \u001b[0;34m\u001b[0m\u001b[0m\n\u001b[1;32m      4\u001b[0m \u001b[0midx_spont\u001b[0m \u001b[0;34m=\u001b[0m \u001b[0mloader\u001b[0m\u001b[0;34m.\u001b[0m\u001b[0midx_spont\u001b[0m\u001b[0;34m\u001b[0m\u001b[0;34m\u001b[0m\u001b[0m\n\u001b[1;32m      5\u001b[0m \u001b[0mspks\u001b[0m \u001b[0;34m=\u001b[0m \u001b[0mzscore\u001b[0m\u001b[0;34m(\u001b[0m\u001b[0mloader\u001b[0m\u001b[0;34m.\u001b[0m\u001b[0mspks\u001b[0m\u001b[0;34m,\u001b[0m \u001b[0maxis\u001b[0m\u001b[0;34m=\u001b[0m\u001b[0;36m0\u001b[0m\u001b[0;34m)\u001b[0m\u001b[0;34m\u001b[0m\u001b[0;34m\u001b[0m\u001b[0m\n",
      "\u001b[0;32m~/janelia2020/src/analyzer.py\u001b[0m in \u001b[0;36mfrom_hdf5\u001b[0;34m(cls, path, load_prev_run, **kwargs)\u001b[0m\n\u001b[1;32m     67\u001b[0m             \u001b[0mpath\u001b[0m\u001b[0;34m=\u001b[0m\u001b[0mpath\u001b[0m\u001b[0;34m,\u001b[0m\u001b[0;34m\u001b[0m\u001b[0;34m\u001b[0m\u001b[0m\n\u001b[1;32m     68\u001b[0m             \u001b[0mload_prev_run\u001b[0m\u001b[0;34m=\u001b[0m\u001b[0mload_prev_run\u001b[0m\u001b[0;34m,\u001b[0m\u001b[0;34m\u001b[0m\u001b[0;34m\u001b[0m\u001b[0m\n\u001b[0;32m---> 69\u001b[0;31m             \u001b[0;34m**\u001b[0m\u001b[0mhdf5_load\u001b[0m\u001b[0;34m(\u001b[0m\u001b[0mpath\u001b[0m\u001b[0;34m,\u001b[0m \u001b[0mcls\u001b[0m\u001b[0;34m.\u001b[0m\u001b[0m__name__\u001b[0m\u001b[0;34m,\u001b[0m \u001b[0mparams\u001b[0m\u001b[0;34m=\u001b[0m\u001b[0mcls\u001b[0m\u001b[0;34m.\u001b[0m\u001b[0mHYPERPARAMS\u001b[0m\u001b[0;34m,\u001b[0m \u001b[0;34m**\u001b[0m\u001b[0mkwargs\u001b[0m\u001b[0;34m)\u001b[0m\u001b[0;34m,\u001b[0m\u001b[0;34m\u001b[0m\u001b[0;34m\u001b[0m\u001b[0m\n\u001b[0m\u001b[1;32m     70\u001b[0m         )\n\u001b[1;32m     71\u001b[0m \u001b[0;34m\u001b[0m\u001b[0m\n",
      "\u001b[0;32m~/janelia2020/src/utils/io.py\u001b[0m in \u001b[0;36mhdf5_load\u001b[0;34m(path, group, arrs, dfs, params, skip_na)\u001b[0m\n\u001b[1;32m    135\u001b[0m \u001b[0;34m\u001b[0m\u001b[0m\n\u001b[1;32m    136\u001b[0m     \u001b[0;32mwith\u001b[0m \u001b[0mtables\u001b[0m\u001b[0;34m.\u001b[0m\u001b[0mopen_file\u001b[0m\u001b[0;34m(\u001b[0m\u001b[0mpath\u001b[0m\u001b[0;34m,\u001b[0m \u001b[0;34m'r'\u001b[0m\u001b[0;34m)\u001b[0m \u001b[0;32mas\u001b[0m \u001b[0mf\u001b[0m\u001b[0;34m:\u001b[0m\u001b[0;34m\u001b[0m\u001b[0;34m\u001b[0m\u001b[0m\n\u001b[0;32m--> 137\u001b[0;31m         \u001b[0mf\u001b[0m\u001b[0;34m.\u001b[0m\u001b[0mroot\u001b[0m\u001b[0;34m[\u001b[0m\u001b[0mgroup\u001b[0m\u001b[0;34m]\u001b[0m  \u001b[0;31m# Check if group exists.\u001b[0m\u001b[0;34m\u001b[0m\u001b[0;34m\u001b[0m\u001b[0m\n\u001b[0m\u001b[1;32m    138\u001b[0m         \u001b[0marrs_call\u001b[0m \u001b[0;34m=\u001b[0m \u001b[0;34m(\u001b[0m\u001b[0marrs\u001b[0m\u001b[0;34m,\u001b[0m \u001b[0;32mlambda\u001b[0m \u001b[0mgroup\u001b[0m\u001b[0;34m,\u001b[0m \u001b[0mname\u001b[0m\u001b[0;34m:\u001b[0m \u001b[0mf\u001b[0m\u001b[0;34m.\u001b[0m\u001b[0mroot\u001b[0m\u001b[0;34m[\u001b[0m\u001b[0mgroup\u001b[0m\u001b[0;34m]\u001b[0m\u001b[0;34m[\u001b[0m\u001b[0mname\u001b[0m\u001b[0;34m]\u001b[0m\u001b[0;34m.\u001b[0m\u001b[0mread\u001b[0m\u001b[0;34m(\u001b[0m\u001b[0;34m)\u001b[0m\u001b[0;34m,\u001b[0m \u001b[0mIndexError\u001b[0m\u001b[0;34m)\u001b[0m\u001b[0;34m\u001b[0m\u001b[0;34m\u001b[0m\u001b[0m\n\u001b[1;32m    139\u001b[0m         \u001b[0mparams_call\u001b[0m \u001b[0;34m=\u001b[0m \u001b[0;34m(\u001b[0m\u001b[0mparams\u001b[0m\u001b[0;34m,\u001b[0m \u001b[0;32mlambda\u001b[0m \u001b[0mgroup\u001b[0m\u001b[0;34m,\u001b[0m \u001b[0mname\u001b[0m\u001b[0;34m:\u001b[0m \u001b[0mf\u001b[0m\u001b[0;34m.\u001b[0m\u001b[0mget_node_attr\u001b[0m\u001b[0;34m(\u001b[0m\u001b[0;34mf'/{group}'\u001b[0m\u001b[0;34m,\u001b[0m \u001b[0mname\u001b[0m\u001b[0;34m)\u001b[0m\u001b[0;34m,\u001b[0m \u001b[0mAttributeError\u001b[0m\u001b[0;34m)\u001b[0m\u001b[0;34m\u001b[0m\u001b[0;34m\u001b[0m\u001b[0m\n",
      "\u001b[0;32m~/anaconda3-2020/lib/python3.8/site-packages/tables/group.py\u001b[0m in \u001b[0;36m__getitem__\u001b[0;34m(self, childname)\u001b[0m\n\u001b[1;32m    439\u001b[0m             \u001b[0;32mreturn\u001b[0m \u001b[0mself\u001b[0m\u001b[0;34m.\u001b[0m\u001b[0m_f_get_child\u001b[0m\u001b[0;34m(\u001b[0m\u001b[0mchildname\u001b[0m\u001b[0;34m)\u001b[0m\u001b[0;34m\u001b[0m\u001b[0;34m\u001b[0m\u001b[0m\n\u001b[1;32m    440\u001b[0m         \u001b[0;32mexcept\u001b[0m \u001b[0mNoSuchNodeError\u001b[0m\u001b[0;34m:\u001b[0m\u001b[0;34m\u001b[0m\u001b[0;34m\u001b[0m\u001b[0m\n\u001b[0;32m--> 441\u001b[0;31m             \u001b[0;32mraise\u001b[0m \u001b[0mIndexError\u001b[0m\u001b[0;34m(\u001b[0m\u001b[0mchildname\u001b[0m\u001b[0;34m)\u001b[0m\u001b[0;34m\u001b[0m\u001b[0;34m\u001b[0m\u001b[0m\n\u001b[0m\u001b[1;32m    442\u001b[0m \u001b[0;34m\u001b[0m\u001b[0m\n\u001b[1;32m    443\u001b[0m     \u001b[0;32mdef\u001b[0m \u001b[0m_f_walknodes\u001b[0m\u001b[0;34m(\u001b[0m\u001b[0mself\u001b[0m\u001b[0;34m,\u001b[0m \u001b[0mclassname\u001b[0m\u001b[0;34m=\u001b[0m\u001b[0;32mNone\u001b[0m\u001b[0;34m)\u001b[0m\u001b[0;34m:\u001b[0m\u001b[0;34m\u001b[0m\u001b[0;34m\u001b[0m\u001b[0m\n",
      "\u001b[0;31mIndexError\u001b[0m: GaborFit"
     ]
    }
   ],
   "source": [
    "loader = SpikeLoader.from_hdf5(path_loader)\n",
    "gabor = GaborFit.from_hdf5(path_gabor)\n",
    "\n",
    "idx_spont = loader.idx_spont\n",
    "spks = zscore(loader.spks, axis=0)\n",
    "spks_nospont = SubtractSpontAnalyzer(128).fit(spks, loader.idx_spont).transform(spks)"
   ]
  },
  {
   "cell_type": "markdown",
   "metadata": {
    "cell_marker": "\"\"\"",
    "lines_to_next_cell": 1,
    "papermill": {
     "duration": null,
     "end_time": null,
     "exception": null,
     "start_time": null,
     "status": "pending"
    },
    "tags": []
   },
   "source": [
    "# Canonical Correlation Analysis - Stimuli\n",
    "\n",
    "We use CCA to capture the largest modes of the spiking data that are common to both neuron groups.\n",
    "\n",
    "Let $X$ and $Y$ be $(n \\times p_i)$ matrices where $n$ is the number of stimuli and $p_i$ is the number of neurons in each group. Random group assignment is based on a checkerboard pattern to avoid signal contamination between adjacent neurons.\n",
    "\n",
    "Neuron assignment to each group never changes in the following analysis.\n",
    "\n",
    "128 PCs of spontaneous activity (brain activity when no stimuli are shown) are subtracted from the main dataset."
   ]
  },
  {
   "cell_type": "code",
   "execution_count": null,
   "metadata": {
    "papermill": {
     "duration": null,
     "end_time": null,
     "exception": null,
     "start_time": null,
     "status": "pending"
    },
    "tags": []
   },
   "outputs": [],
   "source": [
    "def prepare_df(df_all: pd.DataFrame):\n",
    "    df_all = df_all.copy()\n",
    "    df_all[\"region\"] = \"brain\"\n",
    "\n",
    "    def checkerboard(item: pd.Series):\n",
    "        if ((item.x // 100) + (item.y // 100)) % 2 == 0:\n",
    "            return 0\n",
    "        else:\n",
    "            return 1\n",
    "\n",
    "    df_all[\"group\"] = df_all.apply(checkerboard, axis=1).astype(\"category\")\n",
    "    return df_all\n",
    "\n",
    "\n",
    "regions = {\"brain\": (dict(group=0), dict(group=1))}\n",
    "\n",
    "cr = CCARepeatedStim(loader, gabor, prepare_df=prepare_df, regions=regions)\n",
    "plt.scatter(cr.df.x, cr.df.y, c=cr.df.group, s=0.5)"
   ]
  },
  {
   "cell_type": "markdown",
   "metadata": {
    "cell_marker": "\"\"\"",
    "papermill": {
     "duration": null,
     "end_time": null,
     "exception": null,
     "start_time": null,
     "status": "pending"
    },
    "tags": []
   },
   "source": [
    "### Training\n",
    "\n",
    "The training data are used to generate the canonical vectors and testing data are used to calculate the canonical coefficients.\n",
    "\n",
    "Here, we use spikes from non-repeated stimuli as the training data. "
   ]
  },
  {
   "cell_type": "code",
   "execution_count": null,
   "metadata": {
    "papermill": {
     "duration": null,
     "end_time": null,
     "exception": null,
     "start_time": null,
     "status": "pending"
    },
    "tags": []
   },
   "outputs": [],
   "source": [
    "ns_train = [20000]\n",
    "rep, no_rep = loader.get_idx_rep(return_onetimers=True)\n",
    "with cr.set_spks_source(spks_nospont[loader.istim.index, :]):\n",
    "    df_un = cr.calc_cr(ns_train, idx_train=no_rep)"
   ]
  },
  {
   "cell_type": "markdown",
   "metadata": {
    "cell_marker": "\"\"\"",
    "papermill": {
     "duration": null,
     "end_time": null,
     "exception": null,
     "start_time": null,
     "status": "pending"
    },
    "tags": []
   },
   "source": [
    "### Testing\n",
    "\n",
    "We investigate how the canonical coefficients vary when we compare the neural activity from group 1 and group 2 neurons from\n",
    "1. same time points\n",
    "2. same stimuli but different time points\n",
    "3. different stimuli and different time points\n",
    "4. same time points from the training set\n",
    "5. spontaneous time points.\n",
    "\n",
    "Note that we are comparing the projection of the canonical vectors from two different neuron groups.\n",
    "The legend means [stim used for projection from group1]_[stim used for projection from group2].\n",
    "\n",
    "The left graph shows the canonical coefficients (correlation) whereas the right graph shows the cross-covariance (unnormalized correlation)."
   ]
  },
  {
   "cell_type": "code",
   "execution_count": null,
   "metadata": {
    "lines_to_next_cell": 1,
    "papermill": {
     "duration": null,
     "end_time": null,
     "exception": null,
     "start_time": null,
     "status": "pending"
    },
    "tags": []
   },
   "outputs": [],
   "source": [
    "n_rep = loader.get_idx_rep().shape[0]\n",
    "rand = np.random.default_rng(42)\n",
    "\n",
    "with cr.set_spks_source(spks_nospont):\n",
    "    innerprod_between_tests = [\n",
    "        cr.calc_innerprod_test(\n",
    "            df_un,\n",
    "            idxs_test={\n",
    "                \"rep1\": cr.loader.get_idx_rep(stim_idx=False)[:, 0],\n",
    "                \"rep2\": cr.loader.get_idx_rep(stim_idx=False)[:, 1],\n",
    "                \"rand_training\": rand.choice(np.arange(len(cr.S)), size=n_rep, replace=False),\n",
    "                \"spont\": cr.loader.idx_spont[:n_rep],\n",
    "            },\n",
    "            pairs=[\n",
    "                (\"rep1\", \"rep1\"),\n",
    "                (\"rep1\", \"rep2\"),\n",
    "                (\"rand_training\", \"rand_training\"),\n",
    "                (\"rep1\", \"rand_training\"),\n",
    "                (\"spont\", \"spont\"),\n",
    "            ],\n",
    "            normalize=boo,\n",
    "        )\n",
    "        for boo in [True, False]\n",
    "    ]"
   ]
  },
  {
   "cell_type": "code",
   "execution_count": null,
   "metadata": {
    "papermill": {
     "duration": null,
     "end_time": null,
     "exception": null,
     "start_time": null,
     "status": "pending"
    },
    "tags": []
   },
   "outputs": [],
   "source": [
    "def gen_chart(data: pd.DataFrame) -> alt.Chart:\n",
    "    y = \"cov\" if \"cov\" in data.columns else \"corr\"\n",
    "    selection = alt.selection_multi(fields=[\"match\"], bind=\"legend\")\n",
    "    base = alt.Chart(data).encode(x=\"dimension\", y=y, color=\"match\",)\n",
    "\n",
    "    return (\n",
    "        base.mark_line()\n",
    "        .encode(\n",
    "            size=alt.condition(~selection, alt.value(1), alt.value(2)),\n",
    "            opacity=alt.condition(~selection, alt.value(0.4), alt.value(1)),\n",
    "            row=\"n:N\",\n",
    "        )\n",
    "        .properties(width=200, height=250)\n",
    "        .add_selection(selection)\n",
    "    )\n",
    "\n",
    "\n",
    "gen_chart(innerprod_between_tests[0]) | gen_chart(innerprod_between_tests[1])"
   ]
  },
  {
   "cell_type": "markdown",
   "metadata": {
    "cell_marker": "\"\"\"",
    "lines_to_next_cell": 0,
    "papermill": {
     "duration": null,
     "end_time": null,
     "exception": null,
     "start_time": null,
     "status": "pending"
    },
    "tags": []
   },
   "source": [
    "### Results\n",
    "\n",
    "- The correlation between the same stimuli but different time points is less than half that of the same time points.\n",
    "- Despite subtracting out spontaneous PCs, we still observe high correlation between spontaneous stimuli. However, near zero cross-covariance suggests that most of the variability in the spontaneous subspace has been removed.\n",
    "\n",
    "As controls:\n",
    "    - Highest correlations are observed when we compare training data from the same time points.\n",
    "    - Noise is observed when we attempt to compare unrelated stimuli."
   ]
  },
  {
   "cell_type": "code",
   "execution_count": null,
   "metadata": {
    "papermill": {
     "duration": null,
     "end_time": null,
     "exception": null,
     "start_time": null,
     "status": "pending"
    },
    "tags": []
   },
   "outputs": [],
   "source": [
    "\n",
    "# sns.FacetGrid(\n",
    "#     data=df_transformed[df_transformed[\"stim\"].isin(rand.integers(low=0, high=n_rep, size=15))],\n",
    "#     col=\"stim\",\n",
    "#     col_wrap=5,\n",
    "# ).map(\n",
    "#     sns.regplot, \"rep1\", \"rep2\", scatter_kws={\"s\": 1, \"alpha\": 0.5},\n",
    "# )\n",
    "# sns.regplot(\n",
    "#     \"rep1\",\n",
    "#     \"rep2\",\n",
    "#     data=df_transformed[df_transformed.stim == 0],\n",
    "#     ax=ax,\n",
    "#     scatter_kws={\"s\": 1, \"alpha\": 0.5},\n",
    "# )\n",
    "# ax.set_aspect(\"equal\")"
   ]
  }
 ],
 "metadata": {
  "jupytext": {
   "cell_metadata_filter": "tags,-all",
   "main_language": "python",
   "notebook_metadata_filter": "-all"
  },
  "kernelspec": {
   "display_name": "Python 3",
   "language": "python",
   "name": "python3"
  },
  "language_info": {
   "codemirror_mode": {
    "name": "ipython",
    "version": 3
   },
   "file_extension": ".py",
   "mimetype": "text/x-python",
   "name": "python",
   "nbconvert_exporter": "python",
   "pygments_lexer": "ipython3",
   "version": "3.8.3"
  },
  "papermill": {
   "duration": 10.0871,
   "end_time": "2020-10-30T06:30:10.172404",
   "environment_variables": {},
   "exception": true,
   "input_path": "cca_stimuli.ipynb",
   "output_path": "outputs/text32_500_TX59_2020_08_05_/cca_stimuli_output.ipynb",
   "parameters": {
    "path_gabor": "/groups/stringer/home/josephs2/data/text32_500_TX59_2020_08_05.hdf5",
    "path_hdf5": "/groups/stringer/home/josephs2/data/text32_500_TX59_2020_08_05.hdf5",
    "path_img": "/groups/pachitariu/pachitariulab/data/STIM/text32_500.mat",
    "path_loader": "/groups/stringer/home/josephs2/data/text32_500_TX59_2020_08_05.hdf5",
    "path_npz": "/groups/pachitariu/pachitariulab/datasets/v1RF/text32_500_TX59_2020_08_05.npz",
    "path_rf": "/groups/stringer/home/josephs2/data/text32_500_TX59_2020_08_05.hdf5"
   },
   "start_time": "2020-10-30T06:30:00.085304",
   "version": "2.1.3"
  }
 },
 "nbformat": 4,
 "nbformat_minor": 4
}