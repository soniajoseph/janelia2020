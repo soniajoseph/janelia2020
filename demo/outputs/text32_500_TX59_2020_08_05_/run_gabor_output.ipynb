{
 "cells": [
  {
   "cell_type": "code",
   "execution_count": 1,
   "metadata": {
    "execution": {
     "iopub.execute_input": "2020-10-30T07:01:06.044815Z",
     "iopub.status.busy": "2020-10-30T07:01:06.043288Z",
     "iopub.status.idle": "2020-10-30T07:01:09.903626Z",
     "shell.execute_reply": "2020-10-30T07:01:09.905071Z"
    },
    "papermill": {
     "duration": 3.883076,
     "end_time": "2020-10-30T07:01:09.905622",
     "exception": false,
     "start_time": "2020-10-30T07:01:06.022546",
     "status": "completed"
    },
    "tags": []
   },
   "outputs": [
    {
     "name": "stdout",
     "output_type": "stream",
     "text": [
      "/groups/stringer/home/josephs2/janelia2020\n"
     ]
    }
   ],
   "source": [
    "%cd ../\n",
    "%config InlineBackend.figure_format='retina'\n",
    "\n",
    "import logging\n",
    "\n",
    "import numpy as np\n",
    "import seaborn as sns\n",
    "from src.gabor_analysis.gabor_fit import GaborFit\n",
    "from src.receptive_field.rf import ReceptiveField\n",
    "from pathlib import Path\n",
    "\n",
    "logging.getLogger().setLevel(logging.INFO)\n",
    "sns.set()"
   ]
  },
  {
   "cell_type": "code",
   "execution_count": 2,
   "metadata": {
    "execution": {
     "iopub.execute_input": "2020-10-30T07:01:09.952995Z",
     "iopub.status.busy": "2020-10-30T07:01:09.951932Z",
     "iopub.status.idle": "2020-10-30T07:01:09.954014Z",
     "shell.execute_reply": "2020-10-30T07:01:09.955304Z"
    },
    "papermill": {
     "duration": 0.0264,
     "end_time": "2020-10-30T07:01:09.955807",
     "exception": false,
     "start_time": "2020-10-30T07:01:09.929407",
     "status": "completed"
    },
    "tags": [
     "parameters"
    ]
   },
   "outputs": [],
   "source": [
    "path_loader = \"/groups/stringer/home/josephs2/data/text32_500_TX59_2020_08_18.hdf5\"\n",
    "path_rf = \"/groups/stringer/home/josephs2/data/text32_500_TX59_2020_08_18.hdf5\"\n",
    "path_rf_pcaed = \"/groups/stringer/home/josephs2/data/text32_500_TX59_2020_08_18rf_pcaed.npy\""
   ]
  },
  {
   "cell_type": "code",
   "execution_count": 3,
   "metadata": {
    "execution": {
     "iopub.execute_input": "2020-10-30T07:01:09.991723Z",
     "iopub.status.busy": "2020-10-30T07:01:09.990740Z",
     "iopub.status.idle": "2020-10-30T07:01:09.993484Z",
     "shell.execute_reply": "2020-10-30T07:01:09.994331Z"
    },
    "papermill": {
     "duration": 0.023772,
     "end_time": "2020-10-30T07:01:09.994657",
     "exception": false,
     "start_time": "2020-10-30T07:01:09.970885",
     "status": "completed"
    },
    "tags": [
     "injected-parameters"
    ]
   },
   "outputs": [],
   "source": [
    "# Parameters\n",
    "path_npz = (\n",
    "    \"/groups/pachitariu/pachitariulab/datasets/v1RF/text32_500_TX59_2020_08_05.npz\"\n",
    ")\n",
    "path_hdf5 = \"/groups/stringer/home/josephs2/data/text32_500_TX59_2020_08_05.hdf5\"\n",
    "path_img = \"/groups/pachitariu/pachitariulab/data/STIM/text32_500.mat\"\n",
    "path_loader = \"/groups/stringer/home/josephs2/data/text32_500_TX59_2020_08_05.hdf5\"\n",
    "path_rf = \"/groups/stringer/home/josephs2/data/text32_500_TX59_2020_08_05.hdf5\"\n",
    "path_gabor = \"/groups/stringer/home/josephs2/data/text32_500_TX59_2020_08_05.hdf5\"\n"
   ]
  },
  {
   "cell_type": "code",
   "execution_count": 4,
   "metadata": {
    "execution": {
     "iopub.execute_input": "2020-10-30T07:01:10.018566Z",
     "iopub.status.busy": "2020-10-30T07:01:10.017371Z",
     "iopub.status.idle": "2020-10-30T07:01:10.020416Z",
     "shell.execute_reply": "2020-10-30T07:01:10.021176Z"
    },
    "papermill": {
     "duration": 0.018716,
     "end_time": "2020-10-30T07:01:10.021470",
     "exception": false,
     "start_time": "2020-10-30T07:01:10.002754",
     "status": "completed"
    },
    "tags": []
   },
   "outputs": [],
   "source": [
    "path_loader = Path(path_loader)\n",
    "path_rf_pcaed = path_loader.parent / (path_loader.stem + \"rf_pcaed.npy\")"
   ]
  },
  {
   "cell_type": "code",
   "execution_count": 5,
   "metadata": {
    "execution": {
     "iopub.execute_input": "2020-10-30T07:01:10.053850Z",
     "iopub.status.busy": "2020-10-30T07:01:10.053291Z"
    },
    "papermill": {
     "duration": null,
     "end_time": null,
     "exception": false,
     "start_time": "2020-10-30T07:01:10.032440",
     "status": "running"
    },
    "tags": []
   },
   "outputs": [
    {
     "name": "stderr",
     "output_type": "stream",
     "text": [
      "/groups/stringer/home/josephs2/anaconda3-2020/lib/python3.8/site-packages/jax/lib/xla_bridge.py:130: UserWarning: No GPU/TPU found, falling back to CPU.\n",
      "  warnings.warn('No GPU/TPU found, falling back to CPU.')\n",
      "INFO:root:No PCA.\n"
     ]
    },
    {
     "name": "stdout",
     "output_type": "stream",
     "text": [
      "dict_keys(['cls', 'path', 'load_prev_run', 'kwargs'])\n",
      "<class 'src.receptive_field.rf.ReceptiveField'>\n",
      "/groups/stringer/home/josephs2/data/text32_500_TX59_2020_08_05.hdf5\n",
      "True\n",
      "{}\n"
     ]
    },
    {
     "name": "stderr",
     "output_type": "stream",
     "text": [
      "INFO:root:Split 0, step     0. Corr: -0.0561 t:  104.87s\n"
     ]
    },
    {
     "name": "stderr",
     "output_type": "stream",
     "text": [
      "INFO:root:Split 0, step   500. Corr:  0.1885 t:  1106.24s\n"
     ]
    }
   ],
   "source": [
    "rf_pcaed = np.load(path_rf_pcaed)\n",
    "rf = ReceptiveField.from_hdf5(path_rf)\n",
    "\n",
    "\n",
    "def penalties():\n",
    "    out = np.zeros((5, 2), dtype=np.float32)\n",
    "    out[GaborFit.KEY[\"σ\"]] = (0.04, 2.0)\n",
    "    out[GaborFit.KEY[\"λ\"]] = (0.6, 0.85)\n",
    "    out[GaborFit.KEY[\"γ\"]] = (0.8, 0.5)\n",
    "    return out\n",
    "\n",
    "\n",
    "g = GaborFit(\n",
    "    n_pc=0,\n",
    "    optimizer={\"name\": \"adam\", \"step_size\": 2e-2},\n",
    "    params_init={\"σ\": 2, \"θ\": 0.0, \"λ\": 1.0, \"γ\": 1.5, \"φ\": 0.0, \"pos_x\": 0.0, \"pos_y\": 0.0},\n",
    "    penalties=penalties(),\n",
    ").fit(rf_pcaed)\n",
    "g.plot()\n",
    "g.save_append(path_loader, overwrite_group=True)"
   ]
  },
  {
   "cell_type": "markdown",
   "metadata": {
    "cell_marker": "\"\"\"",
    "papermill": {
     "duration": null,
     "end_time": null,
     "exception": null,
     "start_time": null,
     "status": "pending"
    },
    "tags": []
   },
   "source": [
    "### Diagnostic\n",
    "\n",
    "As a diagnostic, we check compare\n",
    "- the correlations between the PCAed RFs and raw RFs and \n",
    "- the correlations between the fitted Gabor RFs and raw RFs.\n",
    "\n",
    "If out Gabor fit can cover enough \"receptive field space\", there should be a linear correspondence between these two models."
   ]
  },
  {
   "cell_type": "code",
   "execution_count": null,
   "metadata": {
    "papermill": {
     "duration": null,
     "end_time": null,
     "exception": null,
     "start_time": null,
     "status": "pending"
    },
    "tags": []
   },
   "outputs": [],
   "source": [
    "g.plot_corr(rf.rf_, rf_pcaed)"
   ]
  }
 ],
 "metadata": {
  "jupytext": {
   "cell_metadata_filter": "tags,-all",
   "encoding": "# -*- coding: utf-8 -*-",
   "main_language": "python",
   "notebook_metadata_filter": "-all"
  },
  "kernelspec": {
   "display_name": "Python 3",
   "language": "python",
   "name": "python3"
  },
  "papermill": {
   "duration": null,
   "end_time": null,
   "environment_variables": {},
   "exception": null,
   "input_path": "run_gabor.ipynb",
   "output_path": "outputs/text32_500_TX59_2020_08_05_/run_gabor_output.ipynb",
   "parameters": {
    "path_gabor": "/groups/stringer/home/josephs2/data/text32_500_TX59_2020_08_05.hdf5",
    "path_hdf5": "/groups/stringer/home/josephs2/data/text32_500_TX59_2020_08_05.hdf5",
    "path_img": "/groups/pachitariu/pachitariulab/data/STIM/text32_500.mat",
    "path_loader": "/groups/stringer/home/josephs2/data/text32_500_TX59_2020_08_05.hdf5",
    "path_npz": "/groups/pachitariu/pachitariulab/datasets/v1RF/text32_500_TX59_2020_08_05.npz",
    "path_rf": "/groups/stringer/home/josephs2/data/text32_500_TX59_2020_08_05.hdf5"
   },
   "start_time": "2020-10-30T07:01:04.339555",
   "version": "2.1.3"
  }
 },
 "nbformat": 4,
 "nbformat_minor": 4
}