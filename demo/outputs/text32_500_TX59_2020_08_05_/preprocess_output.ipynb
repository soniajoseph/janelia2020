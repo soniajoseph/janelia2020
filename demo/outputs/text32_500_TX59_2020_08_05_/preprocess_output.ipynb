{
 "cells": [
  {
   "cell_type": "markdown",
   "metadata": {
    "tags": [
     "papermill-error-cell-tag"
    ]
   },
   "source": [
    "<span style=\"color:red; font-family:Helvetica Neue, Helvetica, Arial, sans-serif; font-size:2em;\">An Exception was encountered at '<a href=\"#papermill-error-cell\">In [4]</a>'.</span>"
   ]
  },
  {
   "cell_type": "markdown",
   "metadata": {
    "papermill": {
     "duration": 0.009756,
     "end_time": "2020-10-19T21:17:25.152414",
     "exception": false,
     "start_time": "2020-10-19T21:17:25.142658",
     "status": "completed"
    },
    "tags": []
   },
   "source": [
    "# Preprocess and Sanity Check"
   ]
  },
  {
   "cell_type": "code",
   "execution_count": 5,
   "metadata": {
    "execution": {
     "iopub.execute_input": "2020-10-19T21:17:25.172478Z",
     "iopub.status.busy": "2020-10-19T21:17:25.172125Z",
     "iopub.status.idle": "2020-10-19T21:17:28.026800Z",
     "shell.execute_reply": "2020-10-19T21:17:28.026417Z"
    },
    "papermill": {
     "duration": 2.866812,
     "end_time": "2020-10-19T21:17:28.026943",
     "exception": false,
     "start_time": "2020-10-19T21:17:25.160131",
     "status": "completed"
    },
    "tags": []
   },
   "outputs": [
    {
     "name": "stdout",
     "output_type": "stream",
     "text": [
      "/groups/stringer/home/josephs2/janelia2020\n"
     ]
    }
   ],
   "source": [
    "%cd ../\n",
    "%config InlineBackend.figure_format='retina'\n",
    "\n",
    "import logging\n",
    "from pathlib import Path\n",
    "\n",
    "import matplotlib.pyplot as plt\n",
    "import numpy as np\n",
    "import seaborn as sns\n",
    "from IPython.core.getipython import get_ipython\n",
    "from src.canonical_analysis.subspace_comm import CCARegions\n",
    "from src.spikeloader import SpikeLoader\n",
    "\n",
    "sns.set()\n",
    "get_ipython().run_line_magic(\"config\", \"InlineBackend.figure_format='retina'\")"
   ]
  },
  {
   "cell_type": "code",
   "execution_count": 6,
   "metadata": {
    "execution": {
     "iopub.execute_input": "2020-10-19T21:17:28.045785Z",
     "iopub.status.busy": "2020-10-19T21:17:28.045438Z",
     "iopub.status.idle": "2020-10-19T21:17:28.047393Z",
     "shell.execute_reply": "2020-10-19T21:17:28.047027Z"
    },
    "papermill": {
     "duration": 0.011781,
     "end_time": "2020-10-19T21:17:28.047477",
     "exception": false,
     "start_time": "2020-10-19T21:17:28.035696",
     "status": "completed"
    },
    "tags": [
     "parameters"
    ]
   },
   "outputs": [],
   "source": [
    "# logging.getLogger().setLevel(logging.INFO)\n",
    "path_npz = '/groups/stringer/home/josephs2/data/text32_500_TX59_2020_08_18_coding_neurons.npz'\n",
    "path_img = '/groups/pachitariu/pachitariulab/data/STIM/text32_500.mat'"
   ]
  },
  {
   "cell_type": "code",
   "execution_count": 7,
   "metadata": {
    "execution": {
     "iopub.execute_input": "2020-10-19T21:17:28.064192Z",
     "iopub.status.busy": "2020-10-19T21:17:28.063838Z",
     "iopub.status.idle": "2020-10-19T21:17:28.065926Z",
     "shell.execute_reply": "2020-10-19T21:17:28.065575Z"
    },
    "papermill": {
     "duration": 0.011654,
     "end_time": "2020-10-19T21:17:28.066004",
     "exception": false,
     "start_time": "2020-10-19T21:17:28.054350",
     "status": "completed"
    },
    "tags": [
     "injected-parameters"
    ]
   },
   "outputs": [],
   "source": [
    "# Parameters\n",
    "path_npz = (\n",
    "    \"/groups/pachitariu/pachitariulab/datasets/v1RF/text32_500_TX59_2020_08_05.npz\"\n",
    ")\n",
    "path_hdf5 = \"/groups/stringer/home/josephs2/data/text32_500_TX59_2020_08_05.hdf5\"\n",
    "path_img = \"/groups/pachitariu/pachitariulab/data/STIM/text32_500.mat\"\n",
    "path_loader = \"/groups/stringer/home/josephs2/data/text32_500_TX59_2020_08_05.hdf5\"\n",
    "path_rf = \"/groups/stringer/home/josephs2/data/text32_500_TX59_2020_08_05.hdf5\"\n",
    "path_gabor = \"/groups/stringer/home/josephs2/data/text32_500_TX59_2020_08_05.hdf5\"\n"
   ]
  },
  {
   "cell_type": "code",
   "execution_count": 8,
   "metadata": {},
   "outputs": [],
   "source": [
    "import numpy as np\n",
    "dat = np.load(path_npz)"
   ]
  },
  {
   "cell_type": "code",
   "execution_count": 10,
   "metadata": {},
   "outputs": [
    {
     "name": "stdout",
     "output_type": "stream",
     "text": [
      "istim (14838,)\n",
      "spks (50559, 31904)\n",
      "frame_start (14838,)\n",
      "ypos (50559,)\n",
      "xpos (50559,)\n",
      "fspont (2228,)\n"
     ]
    }
   ],
   "source": [
    "for k in dat.keys():\n",
    "    print(k, dat[k].shape)"
   ]
  },
  {
   "cell_type": "code",
   "execution_count": 17,
   "metadata": {},
   "outputs": [
    {
     "ename": "AttributeError",
     "evalue": "'numpy.ndarray' object has no attribute 'keys'",
     "output_type": "error",
     "traceback": [
      "\u001b[0;31m---------------------------------------------------------------------------\u001b[0m",
      "\u001b[0;31mAttributeError\u001b[0m                            Traceback (most recent call last)",
      "\u001b[0;32m<ipython-input-17-bbb4b56771a9>\u001b[0m in \u001b[0;36m<module>\u001b[0;34m\u001b[0m\n\u001b[1;32m      1\u001b[0m dat_coding = np.load('/groups/stringer/home/josephs2/data/text32_500_TX59_2020_08_18_coding_neurons_TRUE.npy',\n\u001b[1;32m      2\u001b[0m                     allow_pickle=True)\n\u001b[0;32m----> 3\u001b[0;31m \u001b[0;32mfor\u001b[0m \u001b[0mk\u001b[0m \u001b[0;32min\u001b[0m \u001b[0mdat_coding\u001b[0m\u001b[0;34m.\u001b[0m\u001b[0mkeys\u001b[0m\u001b[0;34m(\u001b[0m\u001b[0;34m)\u001b[0m\u001b[0;34m:\u001b[0m\u001b[0;34m\u001b[0m\u001b[0;34m\u001b[0m\u001b[0m\n\u001b[0m\u001b[1;32m      4\u001b[0m     \u001b[0mprint\u001b[0m\u001b[0;34m(\u001b[0m\u001b[0mk\u001b[0m\u001b[0;34m,\u001b[0m \u001b[0mdat_coding\u001b[0m\u001b[0;34m[\u001b[0m\u001b[0mk\u001b[0m\u001b[0;34m]\u001b[0m\u001b[0;34m.\u001b[0m\u001b[0mshape\u001b[0m\u001b[0;34m)\u001b[0m\u001b[0;34m\u001b[0m\u001b[0;34m\u001b[0m\u001b[0m\n",
      "\u001b[0;31mAttributeError\u001b[0m: 'numpy.ndarray' object has no attribute 'keys'"
     ]
    }
   ],
   "source": [
    "dat_coding = np.load('/groups/stringer/home/josephs2/data/text32_500_TX59_2020_08_18_coding_neurons_TRUE.npy',\n",
    "                    allow_pickle=True)\n",
    "for k in dat_coding[].keys():\n",
    "    print(k, dat_coding[k].shape)"
   ]
  },
  {
   "cell_type": "code",
   "execution_count": 12,
   "metadata": {},
   "outputs": [
    {
     "data": {
      "text/plain": [
       "array([15734, 14602,  1285, ...,  4027, 15153, 13712], dtype=uint16)"
      ]
     },
     "execution_count": 12,
     "metadata": {},
     "output_type": "execute_result"
    }
   ],
   "source": [
    "dat['istim']"
   ]
  },
  {
   "cell_type": "markdown",
   "metadata": {
    "tags": [
     "papermill-error-cell-tag"
    ]
   },
   "source": [
    "<span id=\"papermill-error-cell\" style=\"color:red; font-family:Helvetica Neue, Helvetica, Arial, sans-serif; font-size:2em;\">Execution using papermill encountered an exception here and stopped:</span>"
   ]
  },
  {
   "cell_type": "code",
   "execution_count": 4,
   "metadata": {
    "execution": {
     "iopub.execute_input": "2020-10-19T21:17:28.085675Z",
     "iopub.status.busy": "2020-10-19T21:17:28.085327Z",
     "iopub.status.idle": "2020-10-19T21:18:45.831663Z",
     "shell.execute_reply": "2020-10-19T21:18:45.831256Z"
    },
    "papermill": {
     "duration": 77.756871,
     "end_time": "2020-10-19T21:18:45.831820",
     "exception": true,
     "start_time": "2020-10-19T21:17:28.074949",
     "status": "failed"
    },
    "tags": []
   },
   "outputs": [
    {
     "name": "stdout",
     "output_type": "stream",
     "text": [
      "spks shape:  (31904, 50559)\n",
      "(31904, 50559)\n",
      "Int64Index([    2,     4,     6,     8,    10,    12,    14,    16,    18,\n",
      "               20,\n",
      "            ...\n",
      "            31884, 31886, 31888, 31890, 31892, 31894, 31896, 31898, 31900,\n",
      "            31902],\n",
      "           dtype='int64', length=14838)\n"
     ]
    },
    {
     "ename": "IndexError",
     "evalue": "index 65535 is out of bounds for axis 0 with size 16000",
     "output_type": "error",
     "traceback": [
      "\u001b[0;31m---------------------------------------------------------------------------\u001b[0m",
      "\u001b[0;31mIndexError\u001b[0m                                Traceback (most recent call last)",
      "\u001b[0;32m<ipython-input-4-d357a5cc59d5>\u001b[0m in \u001b[0;36m<module>\u001b[0;34m\u001b[0m\n\u001b[1;32m      6\u001b[0m \u001b[0;32melse\u001b[0m\u001b[0;34m:\u001b[0m\u001b[0;34m\u001b[0m\u001b[0;34m\u001b[0m\u001b[0m\n\u001b[1;32m      7\u001b[0m     \u001b[0mlogging\u001b[0m\u001b[0;34m.\u001b[0m\u001b[0minfo\u001b[0m\u001b[0;34m(\u001b[0m\u001b[0;34m\"Reading from npz.\"\u001b[0m\u001b[0;34m)\u001b[0m\u001b[0;34m\u001b[0m\u001b[0;34m\u001b[0m\u001b[0m\n\u001b[0;32m----> 8\u001b[0;31m     \u001b[0mloader\u001b[0m \u001b[0;34m=\u001b[0m \u001b[0mSpikeLoader\u001b[0m\u001b[0;34m.\u001b[0m\u001b[0mfrom_npz\u001b[0m\u001b[0;34m(\u001b[0m\u001b[0mpath_npz\u001b[0m\u001b[0;34m,\u001b[0m \u001b[0mpath_img\u001b[0m\u001b[0;34m)\u001b[0m\u001b[0;34m\u001b[0m\u001b[0;34m\u001b[0m\u001b[0m\n\u001b[0m\u001b[1;32m      9\u001b[0m     \u001b[0mlogging\u001b[0m\u001b[0;34m.\u001b[0m\u001b[0minfo\u001b[0m\u001b[0;34m(\u001b[0m\u001b[0;34m\"Saving to HDF5.\"\u001b[0m\u001b[0;34m)\u001b[0m\u001b[0;34m\u001b[0m\u001b[0;34m\u001b[0m\u001b[0m\n\u001b[1;32m     10\u001b[0m     \u001b[0mloader\u001b[0m\u001b[0;34m.\u001b[0m\u001b[0msave\u001b[0m\u001b[0;34m(\u001b[0m\u001b[0mout_file\u001b[0m\u001b[0;34m,\u001b[0m \u001b[0moverwrite\u001b[0m\u001b[0;34m=\u001b[0m\u001b[0;32mTrue\u001b[0m\u001b[0;34m)\u001b[0m\u001b[0;34m\u001b[0m\u001b[0;34m\u001b[0m\u001b[0m\n",
      "\u001b[0;32m~/janelia2020/src/spikeloader.py\u001b[0m in \u001b[0;36mfrom_npz\u001b[0;34m(cls, path, path_img, istim, img_scale)\u001b[0m\n\u001b[1;32m     97\u001b[0m             \u001b[0;32mreturn\u001b[0m \u001b[0mimg_dim\u001b[0m\u001b[0;34m,\u001b[0m \u001b[0mzscore\u001b[0m\u001b[0;34m(\u001b[0m\u001b[0mX\u001b[0m\u001b[0;34m,\u001b[0m \u001b[0maxis\u001b[0m\u001b[0;34m=\u001b[0m\u001b[0;36m0\u001b[0m\u001b[0;34m)\u001b[0m \u001b[0;34m/\u001b[0m \u001b[0mnp\u001b[0m\u001b[0;34m.\u001b[0m\u001b[0msqrt\u001b[0m\u001b[0;34m(\u001b[0m\u001b[0mlen\u001b[0m\u001b[0;34m(\u001b[0m\u001b[0mistim\u001b[0m\u001b[0;34m)\u001b[0m\u001b[0;34m)\u001b[0m\u001b[0;34m.\u001b[0m\u001b[0mastype\u001b[0m\u001b[0;34m(\u001b[0m\u001b[0mnp\u001b[0m\u001b[0;34m.\u001b[0m\u001b[0mfloat32\u001b[0m\u001b[0;34m)\u001b[0m\u001b[0;34m\u001b[0m\u001b[0;34m\u001b[0m\u001b[0m\n\u001b[1;32m     98\u001b[0m \u001b[0;34m\u001b[0m\u001b[0m\n\u001b[0;32m---> 99\u001b[0;31m         \u001b[0mimg_dim\u001b[0m\u001b[0;34m,\u001b[0m \u001b[0mimgs_stim\u001b[0m \u001b[0;34m=\u001b[0m \u001b[0m_imgs_stim\u001b[0m\u001b[0;34m(\u001b[0m\u001b[0;34m)\u001b[0m\u001b[0;34m\u001b[0m\u001b[0;34m\u001b[0m\u001b[0m\n\u001b[0m\u001b[1;32m    100\u001b[0m \u001b[0;34m\u001b[0m\u001b[0m\n\u001b[1;32m    101\u001b[0m         \u001b[0;32mdel\u001b[0m \u001b[0mnpz\u001b[0m\u001b[0;34m,\u001b[0m \u001b[0m_imgs_stim\u001b[0m\u001b[0;34m\u001b[0m\u001b[0;34m\u001b[0m\u001b[0m\n",
      "\u001b[0;32m~/janelia2020/src/spikeloader.py\u001b[0m in \u001b[0;36m_imgs_stim\u001b[0;34m()\u001b[0m\n\u001b[1;32m     92\u001b[0m \u001b[0;34m\u001b[0m\u001b[0m\n\u001b[1;32m     93\u001b[0m         \u001b[0;32mdef\u001b[0m \u001b[0m_imgs_stim\u001b[0m\u001b[0;34m(\u001b[0m\u001b[0;34m)\u001b[0m\u001b[0;34m:\u001b[0m\u001b[0;34m\u001b[0m\u001b[0;34m\u001b[0m\u001b[0m\n\u001b[0;32m---> 94\u001b[0;31m             \u001b[0mX\u001b[0m \u001b[0;34m=\u001b[0m \u001b[0mndi\u001b[0m\u001b[0;34m.\u001b[0m\u001b[0mzoom\u001b[0m\u001b[0;34m(\u001b[0m\u001b[0mimgs\u001b[0m\u001b[0;34m[\u001b[0m\u001b[0mistim\u001b[0m\u001b[0;34m,\u001b[0m \u001b[0;34m...\u001b[0m\u001b[0;34m]\u001b[0m\u001b[0;34m,\u001b[0m \u001b[0;34m(\u001b[0m\u001b[0;36m1\u001b[0m\u001b[0;34m,\u001b[0m \u001b[0mimg_scale\u001b[0m\u001b[0;34m,\u001b[0m \u001b[0mimg_scale\u001b[0m\u001b[0;34m)\u001b[0m\u001b[0;34m,\u001b[0m \u001b[0morder\u001b[0m\u001b[0;34m=\u001b[0m\u001b[0;36m1\u001b[0m\u001b[0;34m)\u001b[0m\u001b[0;34m\u001b[0m\u001b[0;34m\u001b[0m\u001b[0m\n\u001b[0m\u001b[1;32m     95\u001b[0m             \u001b[0mimg_dim\u001b[0m \u001b[0;34m=\u001b[0m \u001b[0mX\u001b[0m\u001b[0;34m.\u001b[0m\u001b[0mshape\u001b[0m\u001b[0;34m[\u001b[0m\u001b[0;36m1\u001b[0m\u001b[0;34m:\u001b[0m\u001b[0;34m]\u001b[0m\u001b[0;34m\u001b[0m\u001b[0;34m\u001b[0m\u001b[0m\n\u001b[1;32m     96\u001b[0m             \u001b[0mX\u001b[0m \u001b[0;34m=\u001b[0m \u001b[0mnp\u001b[0m\u001b[0;34m.\u001b[0m\u001b[0mreshape\u001b[0m\u001b[0;34m(\u001b[0m\u001b[0mX\u001b[0m\u001b[0;34m,\u001b[0m \u001b[0;34m[\u001b[0m\u001b[0mlen\u001b[0m\u001b[0;34m(\u001b[0m\u001b[0mistim\u001b[0m\u001b[0;34m)\u001b[0m\u001b[0;34m,\u001b[0m \u001b[0;34m-\u001b[0m\u001b[0;36m1\u001b[0m\u001b[0;34m]\u001b[0m\u001b[0;34m)\u001b[0m\u001b[0;34m\u001b[0m\u001b[0;34m\u001b[0m\u001b[0m\n",
      "\u001b[0;31mIndexError\u001b[0m: index 65535 is out of bounds for axis 0 with size 16000"
     ]
    }
   ],
   "source": [
    "load_hdf5=True\n",
    "out_file=path_hdf5\n",
    "if Path(Path(out_file).with_suffix(\".hdf5\")).exists() and load_hdf5:\n",
    "    logging.info(\"HDF5 exists, loading.\")\n",
    "    loader = SpikeLoader.from_hdf5(out_file, path_img)\n",
    "else:\n",
    "    logging.info(\"Reading from npz.\")\n",
    "    loader = SpikeLoader.from_npz(path_npz, path_img)\n",
    "    logging.info(\"Saving to HDF5.\")\n",
    "    loader.save(out_file, overwrite=True)"
   ]
  },
  {
   "cell_type": "code",
   "execution_count": null,
   "metadata": {
    "papermill": {
     "duration": null,
     "end_time": null,
     "exception": null,
     "start_time": null,
     "status": "pending"
    },
    "tags": []
   },
   "outputs": [],
   "source": [
    "fig, ax = plt.subplots()\n",
    "ax.scatter(loader.pos.x, loader.pos.y, s=0.5, alpha=0.2)\n",
    "ax.set_aspect(\"equal\")"
   ]
  },
  {
   "cell_type": "code",
   "execution_count": null,
   "metadata": {
    "lines_to_next_cell": 1,
    "papermill": {
     "duration": null,
     "end_time": null,
     "exception": null,
     "start_time": null,
     "status": "pending"
    },
    "tags": []
   },
   "outputs": [],
   "source": [
    "try:\n",
    "    print(f\"(Stim x Neu): {loader.spks.shape}\")\n",
    "    print(f\"Number of spont frames: {loader.idx_spont.size}\")\n",
    "    print(f\"Repeated stims: {loader.get_idx_rep().shape}\")\n",
    "except:\n",
    "    pass "
   ]
  },
  {
   "cell_type": "markdown",
   "metadata": {
    "papermill": {
     "duration": null,
     "end_time": null,
     "exception": null,
     "start_time": null,
     "status": "pending"
    },
    "tags": []
   },
   "source": [
    "### Correlations between the spiking responses of repeated and non-repeated stimuli."
   ]
  },
  {
   "cell_type": "code",
   "execution_count": null,
   "metadata": {
    "papermill": {
     "duration": null,
     "end_time": null,
     "exception": null,
     "start_time": null,
     "status": "pending"
    },
    "tags": []
   },
   "outputs": [],
   "source": [
    "def corr_check(idx1, idx2, name):\n",
    "    corr = CCARegions.pairwise_inner_prod(loader.S[idx1, :], loader.S[idx2, :], normalize=True)\n",
    "    ax = sns.distplot(corr, label=name)\n",
    "    ax.set_title(\"Correlations between stim\")\n",
    "    ax.set_xlabel(\"Pearson's $r$\")\n",
    "    return ax\n",
    "\n",
    "\n",
    "rep = loader.get_idx_rep()\n",
    "corr_check(rep[:1000, 0], rep[:1000, 1], \"Repeat\")\n",
    "corr_check(np.arange(1000), np.arange(1000, 2000), \"Non-repeat\")\n",
    "plt.legend()"
   ]
  },
  {
   "cell_type": "code",
   "execution_count": null,
   "metadata": {
    "lines_to_next_cell": 2,
    "papermill": {
     "duration": null,
     "end_time": null,
     "exception": null,
     "start_time": null,
     "status": "pending"
    },
    "tags": []
   },
   "outputs": [],
   "source": []
  },
  {
   "cell_type": "code",
   "execution_count": null,
   "metadata": {
    "papermill": {
     "duration": null,
     "end_time": null,
     "exception": null,
     "start_time": null,
     "status": "pending"
    },
    "tags": []
   },
   "outputs": [],
   "source": []
  }
 ],
 "metadata": {
  "jupytext": {
   "cell_metadata_filter": "tags,-all",
   "main_language": "python",
   "notebook_metadata_filter": "-all"
  },
  "kernelspec": {
   "display_name": "Python 3",
   "language": "python",
   "name": "python3"
  },
  "language_info": {
   "codemirror_mode": {
    "name": "ipython",
    "version": 3
   },
   "file_extension": ".py",
   "mimetype": "text/x-python",
   "name": "python",
   "nbconvert_exporter": "python",
   "pygments_lexer": "ipython3",
   "version": "3.8.3"
  },
  "papermill": {
   "duration": 82.978583,
   "end_time": "2020-10-19T21:18:46.438586",
   "environment_variables": {},
   "exception": true,
   "input_path": "preprocess.ipynb",
   "output_path": "outputs/text32_500_TX59_2020_08_05_/preprocess_output.ipynb",
   "parameters": {
    "path_gabor": "/groups/stringer/home/josephs2/data/text32_500_TX59_2020_08_05.hdf5",
    "path_hdf5": "/groups/stringer/home/josephs2/data/text32_500_TX59_2020_08_05.hdf5",
    "path_img": "/groups/pachitariu/pachitariulab/data/STIM/text32_500.mat",
    "path_loader": "/groups/stringer/home/josephs2/data/text32_500_TX59_2020_08_05.hdf5",
    "path_npz": "/groups/pachitariu/pachitariulab/datasets/v1RF/text32_500_TX59_2020_08_05.npz",
    "path_rf": "/groups/stringer/home/josephs2/data/text32_500_TX59_2020_08_05.hdf5"
   },
   "start_time": "2020-10-19T21:17:23.460003",
   "version": "2.1.3"
  }
 },
 "nbformat": 4,
 "nbformat_minor": 4
}
