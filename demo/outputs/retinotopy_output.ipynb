{
 "cells": [
  {
   "cell_type": "markdown",
   "metadata": {
    "tags": [
     "papermill-error-cell-tag"
    ]
   },
   "source": [
    "<span style=\"color:red; font-family:Helvetica Neue, Helvetica, Arial, sans-serif; font-size:2em;\">An Exception was encountered at '<a href=\"#papermill-error-cell\">In [4]</a>'.</span>"
   ]
  },
  {
   "cell_type": "code",
   "execution_count": 19,
   "metadata": {
    "execution": {
     "iopub.execute_input": "2020-09-16T22:58:57.879718Z",
     "iopub.status.busy": "2020-09-16T22:58:57.877116Z",
     "iopub.status.idle": "2020-09-16T22:59:00.671324Z",
     "shell.execute_reply": "2020-09-16T22:59:00.670259Z"
    },
    "papermill": {
     "duration": 2.819906,
     "end_time": "2020-09-16T22:59:00.671598",
     "exception": false,
     "start_time": "2020-09-16T22:58:57.851692",
     "status": "completed"
    },
    "tags": []
   },
   "outputs": [
    {
     "name": "stdout",
     "output_type": "stream",
     "text": [
      "/\n",
      "/groups/stringer/home/josephs2/anaconda3-2020/bin:/groups/stringer/home/josephs2/anaconda3-2020/bin/python3.8:/groups/pachitariu/home/stringerc/anaconda/bin/python:/misc/lsf/10.1/linux3.10-glibc2.17-x86_64/etc:/misc/lsf/10.1/linux3.10-glibc2.17-x86_64/bin:/groups/stringer/home/josephs2/anaconda3-2020/bin:/groups/stringer/home/josephs2/anaconda3-2020/condabin:/groups/stringer/home/josephs2/anaconda3-2020/bin:/usr/lib64/qt-3.3/bin:/opt/puppet/bin:/usr/local/sbin:/usr/local/bin:/usr/sbin:/usr/bin:/sbin:/bin:/bin:/usr/bin:/usr/X11R6/bin:/groups/stringer/home/josephs2/.local/bin:/groups/stringer/home/josephs2/bin\r\n"
     ]
    },
    {
     "ename": "ModuleNotFoundError",
     "evalue": "No module named 'src'",
     "output_type": "error",
     "traceback": [
      "\u001b[0;31m---------------------------------------------------------------------------\u001b[0m",
      "\u001b[0;31mModuleNotFoundError\u001b[0m                       Traceback (most recent call last)",
      "\u001b[0;32m<ipython-input-19-96fcff32e8c3>\u001b[0m in \u001b[0;36m<module>\u001b[0;34m\u001b[0m\n\u001b[1;32m     10\u001b[0m \u001b[0;32mimport\u001b[0m \u001b[0mseaborn\u001b[0m \u001b[0;32mas\u001b[0m \u001b[0msns\u001b[0m\u001b[0;34m\u001b[0m\u001b[0;34m\u001b[0m\u001b[0m\n\u001b[1;32m     11\u001b[0m \u001b[0;32mfrom\u001b[0m \u001b[0mIPython\u001b[0m \u001b[0;32mimport\u001b[0m \u001b[0mget_ipython\u001b[0m\u001b[0;34m\u001b[0m\u001b[0;34m\u001b[0m\u001b[0m\n\u001b[0;32m---> 12\u001b[0;31m \u001b[0;32mfrom\u001b[0m \u001b[0msrc\u001b[0m\u001b[0;34m.\u001b[0m\u001b[0mgabor_analysis\u001b[0m\u001b[0;34m.\u001b[0m\u001b[0mgabor_fit\u001b[0m \u001b[0;32mimport\u001b[0m \u001b[0mGaborFit\u001b[0m\u001b[0;34m\u001b[0m\u001b[0;34m\u001b[0m\u001b[0m\n\u001b[0m\u001b[1;32m     13\u001b[0m \u001b[0;32mfrom\u001b[0m \u001b[0msrc\u001b[0m\u001b[0;34m.\u001b[0m\u001b[0mreceptive_field\u001b[0m\u001b[0;34m.\u001b[0m\u001b[0mrf\u001b[0m \u001b[0;32mimport\u001b[0m \u001b[0mReceptiveField\u001b[0m\u001b[0;34m\u001b[0m\u001b[0;34m\u001b[0m\u001b[0m\n\u001b[1;32m     14\u001b[0m \u001b[0;32mfrom\u001b[0m \u001b[0msrc\u001b[0m\u001b[0;34m.\u001b[0m\u001b[0mspikeloader\u001b[0m \u001b[0;32mimport\u001b[0m \u001b[0mSpikeLoader\u001b[0m\u001b[0;34m\u001b[0m\u001b[0;34m\u001b[0m\u001b[0m\n",
      "\u001b[0;31mModuleNotFoundError\u001b[0m: No module named 'src'"
     ]
    }
   ],
   "source": [
    "%cd ../\n",
    "%config InlineBackend.figure_format='retina'\n",
    "\n",
    "import sys\n",
    "sys.path.append('~/groups/stringer/home/josephs2/janelia2020')\n",
    "\n",
    "!echo $PATH\n",
    "\n",
    "import altair as alt\n",
    "import seaborn as sns\n",
    "from IPython import get_ipython\n",
    "from src.gabor_analysis.gabor_fit import GaborFit\n",
    "from src.receptive_field.rf import ReceptiveField\n",
    "from src.spikeloader import SpikeLoader\n",
    "from src.utils.plots import gabor_interactive\n",
    "\n",
    "get_ipython().run_line_magic(\"matplotlib\", \"inline\")\n",
    "get_ipython().run_line_magic(\"config\", \"InlineBackend.figure_format='retina'\")\n",
    "sns.set()"
   ]
  },
  {
   "cell_type": "code",
   "execution_count": null,
   "metadata": {
    "execution": {
     "iopub.execute_input": "2020-09-16T22:59:00.700960Z",
     "iopub.status.busy": "2020-09-16T22:59:00.700004Z",
     "iopub.status.idle": "2020-09-16T22:59:00.703581Z",
     "shell.execute_reply": "2020-09-16T22:59:00.702815Z"
    },
    "papermill": {
     "duration": 0.019609,
     "end_time": "2020-09-16T22:59:00.703778",
     "exception": false,
     "start_time": "2020-09-16T22:59:00.684169",
     "status": "completed"
    },
    "tags": [
     "parameters"
    ]
   },
   "outputs": [],
   "source": [
    "path_loader = \"data/superstim_TX60_allsort.hdf5\"\n",
    "path_rf = \"data/superstim_TX60_allsort.hdf5\"\n",
    "path_gabor = \"data/superstim_TX60_allsort_gabor.hdf5\""
   ]
  },
  {
   "cell_type": "code",
   "execution_count": null,
   "metadata": {
    "execution": {
     "iopub.execute_input": "2020-09-16T22:59:00.728773Z",
     "iopub.status.busy": "2020-09-16T22:59:00.727965Z",
     "iopub.status.idle": "2020-09-16T22:59:00.731341Z",
     "shell.execute_reply": "2020-09-16T22:59:00.730542Z"
    },
    "papermill": {
     "duration": 0.017534,
     "end_time": "2020-09-16T22:59:00.731508",
     "exception": false,
     "start_time": "2020-09-16T22:59:00.713974",
     "status": "completed"
    },
    "tags": [
     "injected-parameters"
    ]
   },
   "outputs": [],
   "source": [
    "# Parameters\n",
    "path_npz = \"/groups/stringer/home/josephs2/data/text30k_sort_TX56_2020_08_04.npz\"\n",
    "path_loader = \"/groups/stringer/home/josephs2/data/text30k_sort_TX56_2020_08_04.hdf5\"\n",
    "path_rf = \"/groups/stringer/home/josephs2/data/text30k_sort_TX56_2020_08_04.hdf5\"\n",
    "path_gabor = \"/groups/stringer/home/josephs2/data/text30k_sort_TX56_2020_08_04.hdf5\"\n"
   ]
  },
  {
   "cell_type": "markdown",
   "metadata": {
    "tags": [
     "papermill-error-cell-tag"
    ]
   },
   "source": [
    "<span id=\"papermill-error-cell\" style=\"color:red; font-family:Helvetica Neue, Helvetica, Arial, sans-serif; font-size:2em;\">Execution using papermill encountered an exception here and stopped:</span>"
   ]
  },
  {
   "cell_type": "code",
   "execution_count": 2,
   "metadata": {
    "execution": {
     "iopub.execute_input": "2020-09-16T22:59:00.755491Z",
     "iopub.status.busy": "2020-09-16T22:59:00.754734Z",
     "iopub.status.idle": "2020-09-16T22:59:00.978689Z",
     "shell.execute_reply": "2020-09-16T22:59:00.977791Z"
    },
    "papermill": {
     "duration": 0.237584,
     "end_time": "2020-09-16T22:59:00.979048",
     "exception": true,
     "start_time": "2020-09-16T22:59:00.741464",
     "status": "failed"
    },
    "tags": []
   },
   "outputs": [
    {
     "ename": "NameError",
     "evalue": "name 'SpikeLoader' is not defined",
     "output_type": "error",
     "traceback": [
      "\u001b[0;31m---------------------------------------------------------------------------\u001b[0m",
      "\u001b[0;31mNameError\u001b[0m                                 Traceback (most recent call last)",
      "\u001b[0;32m<ipython-input-2-0b8b344a04c6>\u001b[0m in \u001b[0;36m<module>\u001b[0;34m\u001b[0m\n\u001b[0;32m----> 1\u001b[0;31m \u001b[0mf\u001b[0m \u001b[0;34m=\u001b[0m \u001b[0mSpikeLoader\u001b[0m\u001b[0;34m.\u001b[0m\u001b[0mfrom_hdf5\u001b[0m\u001b[0;34m(\u001b[0m\u001b[0mpath_loader\u001b[0m\u001b[0;34m)\u001b[0m\u001b[0;34m\u001b[0m\u001b[0;34m\u001b[0m\u001b[0m\n\u001b[0m\u001b[1;32m      2\u001b[0m \u001b[0mrf\u001b[0m \u001b[0;34m=\u001b[0m \u001b[0mReceptiveField\u001b[0m\u001b[0;34m.\u001b[0m\u001b[0mfrom_hdf5\u001b[0m\u001b[0;34m(\u001b[0m\u001b[0mpath_rf\u001b[0m\u001b[0;34m)\u001b[0m\u001b[0;34m\u001b[0m\u001b[0;34m\u001b[0m\u001b[0m\n\u001b[1;32m      3\u001b[0m \u001b[0mg\u001b[0m \u001b[0;34m=\u001b[0m \u001b[0mGaborFit\u001b[0m\u001b[0;34m.\u001b[0m\u001b[0mfrom_hdf5\u001b[0m\u001b[0;34m(\u001b[0m\u001b[0mpath_gabor\u001b[0m\u001b[0;34m)\u001b[0m\u001b[0;34m\u001b[0m\u001b[0;34m\u001b[0m\u001b[0m\n",
      "\u001b[0;31mNameError\u001b[0m: name 'SpikeLoader' is not defined"
     ]
    }
   ],
   "source": [
    "f = SpikeLoader.from_hdf5(path_loader)\n",
    "rf = ReceptiveField.from_hdf5(path_rf)\n",
    "g = GaborFit.from_hdf5(path_gabor)"
   ]
  },
  {
   "cell_type": "code",
   "execution_count": null,
   "metadata": {
    "papermill": {
     "duration": null,
     "end_time": null,
     "exception": null,
     "start_time": null,
     "status": "pending"
    },
    "tags": []
   },
   "outputs": [],
   "source": [
    "g.plot_params(f.pos)"
   ]
  },
  {
   "cell_type": "markdown",
   "metadata": {
    "papermill": {
     "duration": null,
     "end_time": null,
     "exception": null,
     "start_time": null,
     "status": "pending"
    },
    "tags": []
   },
   "source": [
    "## Interactive Plot"
   ]
  },
  {
   "cell_type": "code",
   "execution_count": null,
   "metadata": {
    "papermill": {
     "duration": null,
     "end_time": null,
     "exception": null,
     "start_time": null,
     "status": "pending"
    },
    "tags": []
   },
   "outputs": [],
   "source": [
    "alt.renderers.enable(\"mimetype\")\n",
    "gabor_interactive(f, g, n_samples=500)"
   ]
  }
 ],
 "metadata": {
  "jupytext": {
   "cell_metadata_filter": "tags,-all",
   "main_language": "python",
   "notebook_metadata_filter": "-all"
  },
  "kernelspec": {
   "display_name": "Python 3",
   "language": "python",
   "name": "python3"
  },
  "language_info": {
   "codemirror_mode": {
    "name": "ipython",
    "version": 3
   },
   "file_extension": ".py",
   "mimetype": "text/x-python",
   "name": "python",
   "nbconvert_exporter": "python",
   "pygments_lexer": "ipython3",
   "version": "3.8.3"
  },
  "papermill": {
   "duration": 5.021837,
   "end_time": "2020-09-16T22:59:01.587423",
   "environment_variables": {},
   "exception": true,
   "input_path": "retinotopy.ipynb",
   "output_path": "outputs/retinotopy_output.ipynb",
   "parameters": {
    "path_gabor": "/groups/stringer/home/josephs2/data/text30k_sort_TX56_2020_08_04.hdf5",
    "path_loader": "/groups/stringer/home/josephs2/data/text30k_sort_TX56_2020_08_04.hdf5",
    "path_npz": "/groups/stringer/home/josephs2/data/text30k_sort_TX56_2020_08_04.npz",
    "path_rf": "/groups/stringer/home/josephs2/data/text30k_sort_TX56_2020_08_04.hdf5"
   },
   "start_time": "2020-09-16T22:58:56.565586",
   "version": "2.1.3"
  }
 },
 "nbformat": 4,
 "nbformat_minor": 4
}
