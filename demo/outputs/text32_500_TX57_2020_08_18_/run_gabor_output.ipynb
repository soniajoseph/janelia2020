{
 "cells": [
  {
   "cell_type": "code",
   "execution_count": 1,
   "metadata": {
    "execution": {
     "iopub.execute_input": "2020-10-15T22:34:50.662692Z",
     "iopub.status.busy": "2020-10-15T22:34:50.662249Z",
     "iopub.status.idle": "2020-10-15T22:34:52.963855Z",
     "shell.execute_reply": "2020-10-15T22:34:52.964296Z"
    },
    "papermill": {
     "duration": 2.317639,
     "end_time": "2020-10-15T22:34:52.964480",
     "exception": false,
     "start_time": "2020-10-15T22:34:50.646841",
     "status": "completed"
    },
    "tags": []
   },
   "outputs": [
    {
     "name": "stdout",
     "output_type": "stream",
     "text": [
      "/groups/stringer/home/josephs2/janelia2020\n"
     ]
    }
   ],
   "source": [
    "%cd ../\n",
    "%config InlineBackend.figure_format='retina'\n",
    "\n",
    "import logging\n",
    "\n",
    "import numpy as np\n",
    "import seaborn as sns\n",
    "from src.gabor_analysis.gabor_fit import GaborFit\n",
    "from src.receptive_field.rf import ReceptiveField\n",
    "from pathlib import Path\n",
    "\n",
    "logging.getLogger().setLevel(logging.INFO)\n",
    "sns.set()"
   ]
  },
  {
   "cell_type": "code",
   "execution_count": 2,
   "metadata": {
    "execution": {
     "iopub.execute_input": "2020-10-15T22:34:52.983821Z",
     "iopub.status.busy": "2020-10-15T22:34:52.983368Z",
     "iopub.status.idle": "2020-10-15T22:34:52.985014Z",
     "shell.execute_reply": "2020-10-15T22:34:52.985433Z"
    },
    "papermill": {
     "duration": 0.011268,
     "end_time": "2020-10-15T22:34:52.985567",
     "exception": false,
     "start_time": "2020-10-15T22:34:52.974299",
     "status": "completed"
    },
    "tags": [
     "parameters"
    ]
   },
   "outputs": [],
   "source": [
    "path_loader = \"/groups/stringer/home/josephs2/data/text32_500_TX59_2020_08_18.hdf5\"\n",
    "path_rf = \"/groups/stringer/home/josephs2/data/text32_500_TX59_2020_08_18.hdf5\"\n",
    "path_rf_pcaed = \"/groups/stringer/home/josephs2/data/text32_500_TX59_2020_08_18rf_pcaed.npy\""
   ]
  },
  {
   "cell_type": "code",
   "execution_count": 3,
   "metadata": {
    "execution": {
     "iopub.execute_input": "2020-10-15T22:34:53.002449Z",
     "iopub.status.busy": "2020-10-15T22:34:53.001989Z",
     "iopub.status.idle": "2020-10-15T22:34:53.003570Z",
     "shell.execute_reply": "2020-10-15T22:34:53.004007Z"
    },
    "papermill": {
     "duration": 0.011942,
     "end_time": "2020-10-15T22:34:53.004146",
     "exception": false,
     "start_time": "2020-10-15T22:34:52.992204",
     "status": "completed"
    },
    "tags": [
     "injected-parameters"
    ]
   },
   "outputs": [],
   "source": [
    "# Parameters\n",
    "path_npz = (\n",
    "    \"/groups/pachitariu/pachitariulab/datasets/v1RF/text32_500_TX57_2020_08_18.npz\"\n",
    ")\n",
    "path_hdf5 = \"/groups/stringer/home/josephs2/data/text32_500_TX57_2020_08_18.hdf5\"\n",
    "path_img = \"/groups/pachitariu/pachitariulab/data/STIM/text32_500.mat\"\n",
    "path_loader = \"/groups/stringer/home/josephs2/data/text32_500_TX57_2020_08_18.hdf5\"\n",
    "path_rf = \"/groups/stringer/home/josephs2/data/text32_500_TX57_2020_08_18.hdf5\"\n",
    "path_gabor = \"/groups/stringer/home/josephs2/data/text32_500_TX57_2020_08_18.hdf5\"\n"
   ]
  },
  {
   "cell_type": "code",
   "execution_count": 4,
   "metadata": {
    "execution": {
     "iopub.execute_input": "2020-10-15T22:34:53.021288Z",
     "iopub.status.busy": "2020-10-15T22:34:53.020815Z",
     "iopub.status.idle": "2020-10-15T22:34:53.022293Z",
     "shell.execute_reply": "2020-10-15T22:34:53.022712Z"
    },
    "papermill": {
     "duration": 0.012091,
     "end_time": "2020-10-15T22:34:53.022849",
     "exception": false,
     "start_time": "2020-10-15T22:34:53.010758",
     "status": "completed"
    },
    "tags": []
   },
   "outputs": [],
   "source": [
    "path_loader = Path(path_loader)\n",
    "path_rf_pcaed = path_loader.parent / (path_loader.stem + \"rf_pcaed.npy\")"
   ]
  },
  {
   "cell_type": "code",
   "execution_count": 5,
   "metadata": {
    "execution": {
     "iopub.execute_input": "2020-10-15T22:34:53.051049Z",
     "iopub.status.busy": "2020-10-15T22:34:53.050568Z"
    },
    "papermill": {
     "duration": null,
     "end_time": null,
     "exception": false,
     "start_time": "2020-10-15T22:34:53.029327",
     "status": "running"
    },
    "tags": []
   },
   "outputs": [
    {
     "name": "stderr",
     "output_type": "stream",
     "text": [
      "/groups/stringer/home/josephs2/anaconda3-2020/lib/python3.8/site-packages/jax/lib/xla_bridge.py:130: UserWarning: No GPU/TPU found, falling back to CPU.\n",
      "  warnings.warn('No GPU/TPU found, falling back to CPU.')\n",
      "INFO:root:No PCA.\n"
     ]
    },
    {
     "name": "stdout",
     "output_type": "stream",
     "text": [
      "dict_keys(['cls', 'path', 'load_prev_run', 'kwargs'])\n",
      "<class 'src.receptive_field.rf.ReceptiveField'>\n",
      "/groups/stringer/home/josephs2/data/text32_500_TX57_2020_08_18.hdf5\n",
      "True\n",
      "{}\n"
     ]
    },
    {
     "name": "stderr",
     "output_type": "stream",
     "text": [
      "INFO:root:Split 0, step     0. Corr: -0.0183 t:  30.46s\n"
     ]
    }
   ],
   "source": [
    "rf_pcaed = np.load(path_rf_pcaed)\n",
    "rf = ReceptiveField.from_hdf5(path_rf)\n",
    "\n",
    "\n",
    "def penalties():\n",
    "    out = np.zeros((5, 2), dtype=np.float32)\n",
    "    out[GaborFit.KEY[\"σ\"]] = (0.04, 2.0)\n",
    "    out[GaborFit.KEY[\"λ\"]] = (0.6, 0.85)\n",
    "    out[GaborFit.KEY[\"γ\"]] = (0.8, 0.5)\n",
    "    return out\n",
    "\n",
    "\n",
    "g = GaborFit(\n",
    "    n_pc=0,\n",
    "    optimizer={\"name\": \"adam\", \"step_size\": 2e-2},\n",
    "    params_init={\"σ\": 2, \"θ\": 0.0, \"λ\": 1.0, \"γ\": 1.5, \"φ\": 0.0, \"pos_x\": 0.0, \"pos_y\": 0.0},\n",
    "    penalties=penalties(),\n",
    ").fit(rf_pcaed)\n",
    "g.plot()\n",
    "g.save_append(path_loader, overwrite_group=True)"
   ]
  },
  {
   "cell_type": "markdown",
   "metadata": {
    "cell_marker": "\"\"\"",
    "papermill": {
     "duration": null,
     "end_time": null,
     "exception": null,
     "start_time": null,
     "status": "pending"
    },
    "tags": []
   },
   "source": [
    "### Diagnostic\n",
    "\n",
    "As a diagnostic, we check compare\n",
    "- the correlations between the PCAed RFs and raw RFs and \n",
    "- the correlations between the fitted Gabor RFs and raw RFs.\n",
    "\n",
    "If out Gabor fit can cover enough \"receptive field space\", there should be a linear correspondence between these two models."
   ]
  },
  {
   "cell_type": "code",
   "execution_count": null,
   "metadata": {
    "papermill": {
     "duration": null,
     "end_time": null,
     "exception": null,
     "start_time": null,
     "status": "pending"
    },
    "tags": []
   },
   "outputs": [],
   "source": [
    "g.plot_corr(rf.rf_, rf_pcaed)"
   ]
  }
 ],
 "metadata": {
  "jupytext": {
   "cell_metadata_filter": "tags,-all",
   "encoding": "# -*- coding: utf-8 -*-",
   "main_language": "python",
   "notebook_metadata_filter": "-all"
  },
  "kernelspec": {
   "display_name": "Python 3",
   "language": "python",
   "name": "python3"
  },
  "papermill": {
   "duration": null,
   "end_time": null,
   "environment_variables": {},
   "exception": null,
   "input_path": "run_gabor.ipynb",
   "output_path": "outputs/text32_500_TX57_2020_08_18_/run_gabor_output.ipynb",
   "parameters": {
    "path_gabor": "/groups/stringer/home/josephs2/data/text32_500_TX57_2020_08_18.hdf5",
    "path_hdf5": "/groups/stringer/home/josephs2/data/text32_500_TX57_2020_08_18.hdf5",
    "path_img": "/groups/pachitariu/pachitariulab/data/STIM/text32_500.mat",
    "path_loader": "/groups/stringer/home/josephs2/data/text32_500_TX57_2020_08_18.hdf5",
    "path_npz": "/groups/pachitariu/pachitariulab/datasets/v1RF/text32_500_TX57_2020_08_18.npz",
    "path_rf": "/groups/stringer/home/josephs2/data/text32_500_TX57_2020_08_18.hdf5"
   },
   "start_time": "2020-10-15T22:34:49.521427",
   "version": "2.1.3"
  }
 },
 "nbformat": 4,
 "nbformat_minor": 4
}